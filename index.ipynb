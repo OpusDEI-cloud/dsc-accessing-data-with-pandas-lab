{
 "cells": [
  {
   "cell_type": "markdown",
   "metadata": {},
   "source": [
    "# Accessing Data within Pandas - Lab"
   ]
  },
  {
   "cell_type": "markdown",
   "metadata": {},
   "source": [
    "## Introduction\n",
    "\n",
    "In this lab, we'll look at a dataset which contains information on World Cup matches. Let's use the pandas commands learned in the previous lesson to learn more about our data!"
   ]
  },
  {
   "cell_type": "markdown",
   "metadata": {},
   "source": [
    "## Objectives\n",
    "\n",
    "You will be able to: \n",
    "\n",
    "- Use pandas methods and attributes to access information about a dataset \n",
    "- Index pandas dataframes with .loc, .iloc, and column names \n",
    "- Use a boolean mask to index pandas series and dataframes"
   ]
  },
  {
   "cell_type": "markdown",
   "metadata": {},
   "source": [
    "## Load the Data"
   ]
  },
  {
   "cell_type": "markdown",
   "metadata": {},
   "source": [
    "Load the file `'WorldCupMatches.csv'` as a DataFrame in pandas."
   ]
  },
  {
   "cell_type": "code",
   "execution_count": 248,
   "metadata": {},
   "outputs": [],
   "source": [
    "# Replace None with appropriate code\n",
    "\n",
    "# Import pandas using the standard alias\n",
    "import pandas as pd\n",
    "\n",
    "# Load 'WorldCupMatches.csv' as a DataFrame\n",
    "df = pd.read_csv('WorldCupMatches.csv')"
   ]
  },
  {
   "cell_type": "markdown",
   "metadata": {},
   "source": [
    "## Common Methods and Attributes"
   ]
  },
  {
   "cell_type": "markdown",
   "metadata": {},
   "source": [
    "Use the correct method to display the **first 7 rows** of the dataset."
   ]
  },
  {
   "cell_type": "code",
   "execution_count": 249,
   "metadata": {},
   "outputs": [
    {
     "data": {
      "application/vnd.microsoft.datawrangler.viewer.v0+json": {
       "columns": [
        {
         "name": "index",
         "rawType": "int64",
         "type": "integer"
        },
        {
         "name": "Year",
         "rawType": "int64",
         "type": "integer"
        },
        {
         "name": "Datetime",
         "rawType": "object",
         "type": "string"
        },
        {
         "name": "Stage",
         "rawType": "object",
         "type": "string"
        },
        {
         "name": "Stadium",
         "rawType": "object",
         "type": "string"
        },
        {
         "name": "City",
         "rawType": "object",
         "type": "string"
        },
        {
         "name": "Home Team Name",
         "rawType": "object",
         "type": "string"
        },
        {
         "name": "Home Team Goals",
         "rawType": "int64",
         "type": "integer"
        },
        {
         "name": "Away Team Goals",
         "rawType": "int64",
         "type": "integer"
        },
        {
         "name": "Away Team Name",
         "rawType": "object",
         "type": "string"
        },
        {
         "name": "Win conditions",
         "rawType": "object",
         "type": "string"
        },
        {
         "name": "Attendance",
         "rawType": "float64",
         "type": "float"
        },
        {
         "name": "Half-time Home Goals",
         "rawType": "int64",
         "type": "integer"
        },
        {
         "name": "Half-time Away Goals",
         "rawType": "int64",
         "type": "integer"
        },
        {
         "name": "Referee",
         "rawType": "object",
         "type": "string"
        },
        {
         "name": "Assistant 1",
         "rawType": "object",
         "type": "string"
        },
        {
         "name": "Assistant 2",
         "rawType": "object",
         "type": "string"
        },
        {
         "name": "RoundID",
         "rawType": "int64",
         "type": "integer"
        },
        {
         "name": "MatchID",
         "rawType": "int64",
         "type": "integer"
        },
        {
         "name": "Home Team Initials",
         "rawType": "object",
         "type": "string"
        },
        {
         "name": "Away Team Initials",
         "rawType": "object",
         "type": "string"
        }
       ],
       "conversionMethod": "pd.DataFrame",
       "ref": "ddc6f664-49e0-4548-949b-3ff9516eb5b4",
       "rows": [
        [
         "0",
         "1930",
         "13 Jul 1930 - 15:00 ",
         "Group 1",
         "Pocitos",
         "Montevideo ",
         "France",
         "4",
         "1",
         "Mexico",
         " ",
         "4444.0",
         "3",
         "0",
         "LOMBARDI Domingo (URU)",
         "CRISTOPHE Henry (BEL)",
         "REGO Gilberto (BRA)",
         "201",
         "1096",
         "FRA",
         "MEX"
        ],
        [
         "1",
         "1930",
         "13 Jul 1930 - 15:00 ",
         "Group 4",
         "Parque Central",
         "Montevideo ",
         "USA",
         "3",
         "0",
         "Belgium",
         " ",
         "18346.0",
         "2",
         "0",
         "MACIAS Jose (ARG)",
         "MATEUCCI Francisco (URU)",
         "WARNKEN Alberto (CHI)",
         "201",
         "1090",
         "USA",
         "BEL"
        ],
        [
         "2",
         "1930",
         "14 Jul 1930 - 12:45 ",
         "Group 2",
         "Parque Central",
         "Montevideo ",
         "Yugoslavia",
         "2",
         "1",
         "Brazil",
         " ",
         "24059.0",
         "2",
         "0",
         "TEJADA Anibal (URU)",
         "VALLARINO Ricardo (URU)",
         "BALWAY Thomas (FRA)",
         "201",
         "1093",
         "YUG",
         "BRA"
        ],
        [
         "3",
         "1930",
         "14 Jul 1930 - 14:50 ",
         "Group 3",
         "Pocitos",
         "Montevideo ",
         "Romania",
         "3",
         "1",
         "Peru",
         " ",
         "2549.0",
         "1",
         "0",
         "WARNKEN Alberto (CHI)",
         "LANGENUS Jean (BEL)",
         "MATEUCCI Francisco (URU)",
         "201",
         "1098",
         "ROU",
         "PER"
        ],
        [
         "4",
         "1930",
         "15 Jul 1930 - 16:00 ",
         "Group 1",
         "Parque Central",
         "Montevideo ",
         "Argentina",
         "1",
         "0",
         "France",
         " ",
         "23409.0",
         "0",
         "0",
         "REGO Gilberto (BRA)",
         "SAUCEDO Ulises (BOL)",
         "RADULESCU Constantin (ROU)",
         "201",
         "1085",
         "ARG",
         "FRA"
        ],
        [
         "5",
         "1930",
         "16 Jul 1930 - 14:45 ",
         "Group 1",
         "Parque Central",
         "Montevideo ",
         "Chile",
         "3",
         "0",
         "Mexico",
         " ",
         "9249.0",
         "1",
         "0",
         "CRISTOPHE Henry (BEL)",
         "APHESTEGUY Martin (URU)",
         "LANGENUS Jean (BEL)",
         "201",
         "1095",
         "CHI",
         "MEX"
        ],
        [
         "6",
         "1930",
         "17 Jul 1930 - 12:45 ",
         "Group 2",
         "Parque Central",
         "Montevideo ",
         "Yugoslavia",
         "4",
         "0",
         "Bolivia",
         " ",
         "18306.0",
         "0",
         "0",
         "MATEUCCI Francisco (URU)",
         "LOMBARDI Domingo (URU)",
         "WARNKEN Alberto (CHI)",
         "201",
         "1092",
         "YUG",
         "BOL"
        ]
       ],
       "shape": {
        "columns": 20,
        "rows": 7
       }
      },
      "text/html": [
       "<div>\n",
       "<style scoped>\n",
       "    .dataframe tbody tr th:only-of-type {\n",
       "        vertical-align: middle;\n",
       "    }\n",
       "\n",
       "    .dataframe tbody tr th {\n",
       "        vertical-align: top;\n",
       "    }\n",
       "\n",
       "    .dataframe thead th {\n",
       "        text-align: right;\n",
       "    }\n",
       "</style>\n",
       "<table border=\"1\" class=\"dataframe\">\n",
       "  <thead>\n",
       "    <tr style=\"text-align: right;\">\n",
       "      <th></th>\n",
       "      <th>Year</th>\n",
       "      <th>Datetime</th>\n",
       "      <th>Stage</th>\n",
       "      <th>Stadium</th>\n",
       "      <th>City</th>\n",
       "      <th>Home Team Name</th>\n",
       "      <th>Home Team Goals</th>\n",
       "      <th>Away Team Goals</th>\n",
       "      <th>Away Team Name</th>\n",
       "      <th>Win conditions</th>\n",
       "      <th>Attendance</th>\n",
       "      <th>Half-time Home Goals</th>\n",
       "      <th>Half-time Away Goals</th>\n",
       "      <th>Referee</th>\n",
       "      <th>Assistant 1</th>\n",
       "      <th>Assistant 2</th>\n",
       "      <th>RoundID</th>\n",
       "      <th>MatchID</th>\n",
       "      <th>Home Team Initials</th>\n",
       "      <th>Away Team Initials</th>\n",
       "    </tr>\n",
       "  </thead>\n",
       "  <tbody>\n",
       "    <tr>\n",
       "      <th>0</th>\n",
       "      <td>1930</td>\n",
       "      <td>13 Jul 1930 - 15:00</td>\n",
       "      <td>Group 1</td>\n",
       "      <td>Pocitos</td>\n",
       "      <td>Montevideo</td>\n",
       "      <td>France</td>\n",
       "      <td>4</td>\n",
       "      <td>1</td>\n",
       "      <td>Mexico</td>\n",
       "      <td></td>\n",
       "      <td>4444.0</td>\n",
       "      <td>3</td>\n",
       "      <td>0</td>\n",
       "      <td>LOMBARDI Domingo (URU)</td>\n",
       "      <td>CRISTOPHE Henry (BEL)</td>\n",
       "      <td>REGO Gilberto (BRA)</td>\n",
       "      <td>201</td>\n",
       "      <td>1096</td>\n",
       "      <td>FRA</td>\n",
       "      <td>MEX</td>\n",
       "    </tr>\n",
       "    <tr>\n",
       "      <th>1</th>\n",
       "      <td>1930</td>\n",
       "      <td>13 Jul 1930 - 15:00</td>\n",
       "      <td>Group 4</td>\n",
       "      <td>Parque Central</td>\n",
       "      <td>Montevideo</td>\n",
       "      <td>USA</td>\n",
       "      <td>3</td>\n",
       "      <td>0</td>\n",
       "      <td>Belgium</td>\n",
       "      <td></td>\n",
       "      <td>18346.0</td>\n",
       "      <td>2</td>\n",
       "      <td>0</td>\n",
       "      <td>MACIAS Jose (ARG)</td>\n",
       "      <td>MATEUCCI Francisco (URU)</td>\n",
       "      <td>WARNKEN Alberto (CHI)</td>\n",
       "      <td>201</td>\n",
       "      <td>1090</td>\n",
       "      <td>USA</td>\n",
       "      <td>BEL</td>\n",
       "    </tr>\n",
       "    <tr>\n",
       "      <th>2</th>\n",
       "      <td>1930</td>\n",
       "      <td>14 Jul 1930 - 12:45</td>\n",
       "      <td>Group 2</td>\n",
       "      <td>Parque Central</td>\n",
       "      <td>Montevideo</td>\n",
       "      <td>Yugoslavia</td>\n",
       "      <td>2</td>\n",
       "      <td>1</td>\n",
       "      <td>Brazil</td>\n",
       "      <td></td>\n",
       "      <td>24059.0</td>\n",
       "      <td>2</td>\n",
       "      <td>0</td>\n",
       "      <td>TEJADA Anibal (URU)</td>\n",
       "      <td>VALLARINO Ricardo (URU)</td>\n",
       "      <td>BALWAY Thomas (FRA)</td>\n",
       "      <td>201</td>\n",
       "      <td>1093</td>\n",
       "      <td>YUG</td>\n",
       "      <td>BRA</td>\n",
       "    </tr>\n",
       "    <tr>\n",
       "      <th>3</th>\n",
       "      <td>1930</td>\n",
       "      <td>14 Jul 1930 - 14:50</td>\n",
       "      <td>Group 3</td>\n",
       "      <td>Pocitos</td>\n",
       "      <td>Montevideo</td>\n",
       "      <td>Romania</td>\n",
       "      <td>3</td>\n",
       "      <td>1</td>\n",
       "      <td>Peru</td>\n",
       "      <td></td>\n",
       "      <td>2549.0</td>\n",
       "      <td>1</td>\n",
       "      <td>0</td>\n",
       "      <td>WARNKEN Alberto (CHI)</td>\n",
       "      <td>LANGENUS Jean (BEL)</td>\n",
       "      <td>MATEUCCI Francisco (URU)</td>\n",
       "      <td>201</td>\n",
       "      <td>1098</td>\n",
       "      <td>ROU</td>\n",
       "      <td>PER</td>\n",
       "    </tr>\n",
       "    <tr>\n",
       "      <th>4</th>\n",
       "      <td>1930</td>\n",
       "      <td>15 Jul 1930 - 16:00</td>\n",
       "      <td>Group 1</td>\n",
       "      <td>Parque Central</td>\n",
       "      <td>Montevideo</td>\n",
       "      <td>Argentina</td>\n",
       "      <td>1</td>\n",
       "      <td>0</td>\n",
       "      <td>France</td>\n",
       "      <td></td>\n",
       "      <td>23409.0</td>\n",
       "      <td>0</td>\n",
       "      <td>0</td>\n",
       "      <td>REGO Gilberto (BRA)</td>\n",
       "      <td>SAUCEDO Ulises (BOL)</td>\n",
       "      <td>RADULESCU Constantin (ROU)</td>\n",
       "      <td>201</td>\n",
       "      <td>1085</td>\n",
       "      <td>ARG</td>\n",
       "      <td>FRA</td>\n",
       "    </tr>\n",
       "    <tr>\n",
       "      <th>5</th>\n",
       "      <td>1930</td>\n",
       "      <td>16 Jul 1930 - 14:45</td>\n",
       "      <td>Group 1</td>\n",
       "      <td>Parque Central</td>\n",
       "      <td>Montevideo</td>\n",
       "      <td>Chile</td>\n",
       "      <td>3</td>\n",
       "      <td>0</td>\n",
       "      <td>Mexico</td>\n",
       "      <td></td>\n",
       "      <td>9249.0</td>\n",
       "      <td>1</td>\n",
       "      <td>0</td>\n",
       "      <td>CRISTOPHE Henry (BEL)</td>\n",
       "      <td>APHESTEGUY Martin (URU)</td>\n",
       "      <td>LANGENUS Jean (BEL)</td>\n",
       "      <td>201</td>\n",
       "      <td>1095</td>\n",
       "      <td>CHI</td>\n",
       "      <td>MEX</td>\n",
       "    </tr>\n",
       "    <tr>\n",
       "      <th>6</th>\n",
       "      <td>1930</td>\n",
       "      <td>17 Jul 1930 - 12:45</td>\n",
       "      <td>Group 2</td>\n",
       "      <td>Parque Central</td>\n",
       "      <td>Montevideo</td>\n",
       "      <td>Yugoslavia</td>\n",
       "      <td>4</td>\n",
       "      <td>0</td>\n",
       "      <td>Bolivia</td>\n",
       "      <td></td>\n",
       "      <td>18306.0</td>\n",
       "      <td>0</td>\n",
       "      <td>0</td>\n",
       "      <td>MATEUCCI Francisco (URU)</td>\n",
       "      <td>LOMBARDI Domingo (URU)</td>\n",
       "      <td>WARNKEN Alberto (CHI)</td>\n",
       "      <td>201</td>\n",
       "      <td>1092</td>\n",
       "      <td>YUG</td>\n",
       "      <td>BOL</td>\n",
       "    </tr>\n",
       "  </tbody>\n",
       "</table>\n",
       "</div>"
      ],
      "text/plain": [
       "   Year              Datetime    Stage         Stadium         City  \\\n",
       "0  1930  13 Jul 1930 - 15:00   Group 1         Pocitos  Montevideo    \n",
       "1  1930  13 Jul 1930 - 15:00   Group 4  Parque Central  Montevideo    \n",
       "2  1930  14 Jul 1930 - 12:45   Group 2  Parque Central  Montevideo    \n",
       "3  1930  14 Jul 1930 - 14:50   Group 3         Pocitos  Montevideo    \n",
       "4  1930  15 Jul 1930 - 16:00   Group 1  Parque Central  Montevideo    \n",
       "5  1930  16 Jul 1930 - 14:45   Group 1  Parque Central  Montevideo    \n",
       "6  1930  17 Jul 1930 - 12:45   Group 2  Parque Central  Montevideo    \n",
       "\n",
       "  Home Team Name  Home Team Goals  Away Team Goals Away Team Name  \\\n",
       "0         France                4                1         Mexico   \n",
       "1            USA                3                0        Belgium   \n",
       "2     Yugoslavia                2                1         Brazil   \n",
       "3        Romania                3                1           Peru   \n",
       "4      Argentina                1                0         France   \n",
       "5          Chile                3                0         Mexico   \n",
       "6     Yugoslavia                4                0        Bolivia   \n",
       "\n",
       "  Win conditions  Attendance  Half-time Home Goals  Half-time Away Goals  \\\n",
       "0                     4444.0                     3                     0   \n",
       "1                    18346.0                     2                     0   \n",
       "2                    24059.0                     2                     0   \n",
       "3                     2549.0                     1                     0   \n",
       "4                    23409.0                     0                     0   \n",
       "5                     9249.0                     1                     0   \n",
       "6                    18306.0                     0                     0   \n",
       "\n",
       "                    Referee               Assistant 1  \\\n",
       "0    LOMBARDI Domingo (URU)     CRISTOPHE Henry (BEL)   \n",
       "1         MACIAS Jose (ARG)  MATEUCCI Francisco (URU)   \n",
       "2       TEJADA Anibal (URU)   VALLARINO Ricardo (URU)   \n",
       "3     WARNKEN Alberto (CHI)       LANGENUS Jean (BEL)   \n",
       "4       REGO Gilberto (BRA)      SAUCEDO Ulises (BOL)   \n",
       "5     CRISTOPHE Henry (BEL)   APHESTEGUY Martin (URU)   \n",
       "6  MATEUCCI Francisco (URU)    LOMBARDI Domingo (URU)   \n",
       "\n",
       "                  Assistant 2  RoundID  MatchID Home Team Initials  \\\n",
       "0         REGO Gilberto (BRA)      201     1096                FRA   \n",
       "1       WARNKEN Alberto (CHI)      201     1090                USA   \n",
       "2         BALWAY Thomas (FRA)      201     1093                YUG   \n",
       "3    MATEUCCI Francisco (URU)      201     1098                ROU   \n",
       "4  RADULESCU Constantin (ROU)      201     1085                ARG   \n",
       "5         LANGENUS Jean (BEL)      201     1095                CHI   \n",
       "6       WARNKEN Alberto (CHI)      201     1092                YUG   \n",
       "\n",
       "  Away Team Initials  \n",
       "0                MEX  \n",
       "1                BEL  \n",
       "2                BRA  \n",
       "3                PER  \n",
       "4                FRA  \n",
       "5                MEX  \n",
       "6                BOL  "
      ]
     },
     "execution_count": 249,
     "metadata": {},
     "output_type": "execute_result"
    }
   ],
   "source": [
    "# Your code here\n",
    "df.head(7)"
   ]
  },
  {
   "cell_type": "markdown",
   "metadata": {},
   "source": [
    "Display the **last 3 rows** of the dataset."
   ]
  },
  {
   "cell_type": "code",
   "execution_count": 250,
   "metadata": {},
   "outputs": [
    {
     "data": {
      "application/vnd.microsoft.datawrangler.viewer.v0+json": {
       "columns": [
        {
         "name": "index",
         "rawType": "int64",
         "type": "integer"
        },
        {
         "name": "Year",
         "rawType": "int64",
         "type": "integer"
        },
        {
         "name": "Datetime",
         "rawType": "object",
         "type": "string"
        },
        {
         "name": "Stage",
         "rawType": "object",
         "type": "string"
        },
        {
         "name": "Stadium",
         "rawType": "object",
         "type": "string"
        },
        {
         "name": "City",
         "rawType": "object",
         "type": "string"
        },
        {
         "name": "Home Team Name",
         "rawType": "object",
         "type": "string"
        },
        {
         "name": "Home Team Goals",
         "rawType": "int64",
         "type": "integer"
        },
        {
         "name": "Away Team Goals",
         "rawType": "int64",
         "type": "integer"
        },
        {
         "name": "Away Team Name",
         "rawType": "object",
         "type": "string"
        },
        {
         "name": "Win conditions",
         "rawType": "object",
         "type": "string"
        },
        {
         "name": "Attendance",
         "rawType": "float64",
         "type": "float"
        },
        {
         "name": "Half-time Home Goals",
         "rawType": "int64",
         "type": "integer"
        },
        {
         "name": "Half-time Away Goals",
         "rawType": "int64",
         "type": "integer"
        },
        {
         "name": "Referee",
         "rawType": "object",
         "type": "string"
        },
        {
         "name": "Assistant 1",
         "rawType": "object",
         "type": "string"
        },
        {
         "name": "Assistant 2",
         "rawType": "object",
         "type": "string"
        },
        {
         "name": "RoundID",
         "rawType": "int64",
         "type": "integer"
        },
        {
         "name": "MatchID",
         "rawType": "int64",
         "type": "integer"
        },
        {
         "name": "Home Team Initials",
         "rawType": "object",
         "type": "string"
        },
        {
         "name": "Away Team Initials",
         "rawType": "object",
         "type": "string"
        }
       ],
       "conversionMethod": "pd.DataFrame",
       "ref": "0f71b610-9a6b-4d1f-981e-59b70405a726",
       "rows": [
        [
         "849",
         "2014",
         "09 Jul 2014 - 17:00 ",
         "Semi-finals",
         "Arena de Sao Paulo",
         "Sao Paulo ",
         "Netherlands",
         "0",
         "0",
         "Argentina",
         "Argentina win on penalties (2 - 4) ",
         "63267.0",
         "0",
         "0",
         "C�neyt �AKIR (TUR)",
         "DURAN Bahattin (TUR)",
         "ONGUN Tarik (TUR)",
         "255955",
         "300186490",
         "NED",
         "ARG"
        ],
        [
         "850",
         "2014",
         "12 Jul 2014 - 17:00 ",
         "Play-off for third place",
         "Estadio Nacional",
         "Brasilia ",
         "Brazil",
         "0",
         "3",
         "Netherlands",
         " ",
         "68034.0",
         "0",
         "2",
         "HAIMOUDI Djamel (ALG)",
         "ACHIK Redouane (MAR)",
         "ETCHIALI Abdelhak (ALG)",
         "255957",
         "300186502",
         "BRA",
         "NED"
        ],
        [
         "851",
         "2014",
         "13 Jul 2014 - 16:00 ",
         "Final",
         "Estadio do Maracana",
         "Rio De Janeiro ",
         "Germany",
         "1",
         "0",
         "Argentina",
         "Germany win after extra time ",
         "74738.0",
         "0",
         "0",
         "Nicola RIZZOLI (ITA)",
         "Renato FAVERANI (ITA)",
         "Andrea STEFANI (ITA)",
         "255959",
         "300186501",
         "GER",
         "ARG"
        ]
       ],
       "shape": {
        "columns": 20,
        "rows": 3
       }
      },
      "text/html": [
       "<div>\n",
       "<style scoped>\n",
       "    .dataframe tbody tr th:only-of-type {\n",
       "        vertical-align: middle;\n",
       "    }\n",
       "\n",
       "    .dataframe tbody tr th {\n",
       "        vertical-align: top;\n",
       "    }\n",
       "\n",
       "    .dataframe thead th {\n",
       "        text-align: right;\n",
       "    }\n",
       "</style>\n",
       "<table border=\"1\" class=\"dataframe\">\n",
       "  <thead>\n",
       "    <tr style=\"text-align: right;\">\n",
       "      <th></th>\n",
       "      <th>Year</th>\n",
       "      <th>Datetime</th>\n",
       "      <th>Stage</th>\n",
       "      <th>Stadium</th>\n",
       "      <th>City</th>\n",
       "      <th>Home Team Name</th>\n",
       "      <th>Home Team Goals</th>\n",
       "      <th>Away Team Goals</th>\n",
       "      <th>Away Team Name</th>\n",
       "      <th>Win conditions</th>\n",
       "      <th>Attendance</th>\n",
       "      <th>Half-time Home Goals</th>\n",
       "      <th>Half-time Away Goals</th>\n",
       "      <th>Referee</th>\n",
       "      <th>Assistant 1</th>\n",
       "      <th>Assistant 2</th>\n",
       "      <th>RoundID</th>\n",
       "      <th>MatchID</th>\n",
       "      <th>Home Team Initials</th>\n",
       "      <th>Away Team Initials</th>\n",
       "    </tr>\n",
       "  </thead>\n",
       "  <tbody>\n",
       "    <tr>\n",
       "      <th>849</th>\n",
       "      <td>2014</td>\n",
       "      <td>09 Jul 2014 - 17:00</td>\n",
       "      <td>Semi-finals</td>\n",
       "      <td>Arena de Sao Paulo</td>\n",
       "      <td>Sao Paulo</td>\n",
       "      <td>Netherlands</td>\n",
       "      <td>0</td>\n",
       "      <td>0</td>\n",
       "      <td>Argentina</td>\n",
       "      <td>Argentina win on penalties (2 - 4)</td>\n",
       "      <td>63267.0</td>\n",
       "      <td>0</td>\n",
       "      <td>0</td>\n",
       "      <td>C�neyt �AKIR (TUR)</td>\n",
       "      <td>DURAN Bahattin (TUR)</td>\n",
       "      <td>ONGUN Tarik (TUR)</td>\n",
       "      <td>255955</td>\n",
       "      <td>300186490</td>\n",
       "      <td>NED</td>\n",
       "      <td>ARG</td>\n",
       "    </tr>\n",
       "    <tr>\n",
       "      <th>850</th>\n",
       "      <td>2014</td>\n",
       "      <td>12 Jul 2014 - 17:00</td>\n",
       "      <td>Play-off for third place</td>\n",
       "      <td>Estadio Nacional</td>\n",
       "      <td>Brasilia</td>\n",
       "      <td>Brazil</td>\n",
       "      <td>0</td>\n",
       "      <td>3</td>\n",
       "      <td>Netherlands</td>\n",
       "      <td></td>\n",
       "      <td>68034.0</td>\n",
       "      <td>0</td>\n",
       "      <td>2</td>\n",
       "      <td>HAIMOUDI Djamel (ALG)</td>\n",
       "      <td>ACHIK Redouane (MAR)</td>\n",
       "      <td>ETCHIALI Abdelhak (ALG)</td>\n",
       "      <td>255957</td>\n",
       "      <td>300186502</td>\n",
       "      <td>BRA</td>\n",
       "      <td>NED</td>\n",
       "    </tr>\n",
       "    <tr>\n",
       "      <th>851</th>\n",
       "      <td>2014</td>\n",
       "      <td>13 Jul 2014 - 16:00</td>\n",
       "      <td>Final</td>\n",
       "      <td>Estadio do Maracana</td>\n",
       "      <td>Rio De Janeiro</td>\n",
       "      <td>Germany</td>\n",
       "      <td>1</td>\n",
       "      <td>0</td>\n",
       "      <td>Argentina</td>\n",
       "      <td>Germany win after extra time</td>\n",
       "      <td>74738.0</td>\n",
       "      <td>0</td>\n",
       "      <td>0</td>\n",
       "      <td>Nicola RIZZOLI (ITA)</td>\n",
       "      <td>Renato FAVERANI (ITA)</td>\n",
       "      <td>Andrea STEFANI (ITA)</td>\n",
       "      <td>255959</td>\n",
       "      <td>300186501</td>\n",
       "      <td>GER</td>\n",
       "      <td>ARG</td>\n",
       "    </tr>\n",
       "  </tbody>\n",
       "</table>\n",
       "</div>"
      ],
      "text/plain": [
       "     Year              Datetime                     Stage  \\\n",
       "849  2014  09 Jul 2014 - 17:00                Semi-finals   \n",
       "850  2014  12 Jul 2014 - 17:00   Play-off for third place   \n",
       "851  2014  13 Jul 2014 - 16:00                      Final   \n",
       "\n",
       "                 Stadium             City Home Team Name  Home Team Goals  \\\n",
       "849   Arena de Sao Paulo       Sao Paulo     Netherlands                0   \n",
       "850     Estadio Nacional        Brasilia          Brazil                0   \n",
       "851  Estadio do Maracana  Rio De Janeiro         Germany                1   \n",
       "\n",
       "     Away Team Goals Away Team Name                       Win conditions  \\\n",
       "849                0      Argentina  Argentina win on penalties (2 - 4)    \n",
       "850                3    Netherlands                                        \n",
       "851                0      Argentina        Germany win after extra time    \n",
       "\n",
       "     Attendance  Half-time Home Goals  Half-time Away Goals  \\\n",
       "849     63267.0                     0                     0   \n",
       "850     68034.0                     0                     2   \n",
       "851     74738.0                     0                     0   \n",
       "\n",
       "                   Referee            Assistant 1              Assistant 2  \\\n",
       "849     C�neyt �AKIR (TUR)   DURAN Bahattin (TUR)        ONGUN Tarik (TUR)   \n",
       "850  HAIMOUDI Djamel (ALG)   ACHIK Redouane (MAR)  ETCHIALI Abdelhak (ALG)   \n",
       "851   Nicola RIZZOLI (ITA)  Renato FAVERANI (ITA)     Andrea STEFANI (ITA)   \n",
       "\n",
       "     RoundID    MatchID Home Team Initials Away Team Initials  \n",
       "849   255955  300186490                NED                ARG  \n",
       "850   255957  300186502                BRA                NED  \n",
       "851   255959  300186501                GER                ARG  "
      ]
     },
     "execution_count": 250,
     "metadata": {},
     "output_type": "execute_result"
    }
   ],
   "source": [
    "# Your code here\n",
    "df.tail(3)"
   ]
  },
  {
   "cell_type": "markdown",
   "metadata": {},
   "source": [
    "Get a concise summary of the data using `.info()`. "
   ]
  },
  {
   "cell_type": "code",
   "execution_count": 251,
   "metadata": {},
   "outputs": [
    {
     "name": "stdout",
     "output_type": "stream",
     "text": [
      "<class 'pandas.core.frame.DataFrame'>\n",
      "RangeIndex: 852 entries, 0 to 851\n",
      "Data columns (total 20 columns):\n",
      " #   Column                Non-Null Count  Dtype  \n",
      "---  ------                --------------  -----  \n",
      " 0   Year                  852 non-null    int64  \n",
      " 1   Datetime              852 non-null    object \n",
      " 2   Stage                 852 non-null    object \n",
      " 3   Stadium               852 non-null    object \n",
      " 4   City                  852 non-null    object \n",
      " 5   Home Team Name        852 non-null    object \n",
      " 6   Home Team Goals       852 non-null    int64  \n",
      " 7   Away Team Goals       852 non-null    int64  \n",
      " 8   Away Team Name        852 non-null    object \n",
      " 9   Win conditions        852 non-null    object \n",
      " 10  Attendance            850 non-null    float64\n",
      " 11  Half-time Home Goals  852 non-null    int64  \n",
      " 12  Half-time Away Goals  852 non-null    int64  \n",
      " 13  Referee               852 non-null    object \n",
      " 14  Assistant 1           852 non-null    object \n",
      " 15  Assistant 2           852 non-null    object \n",
      " 16  RoundID               852 non-null    int64  \n",
      " 17  MatchID               852 non-null    int64  \n",
      " 18  Home Team Initials    852 non-null    object \n",
      " 19  Away Team Initials    852 non-null    object \n",
      "dtypes: float64(1), int64(7), object(12)\n",
      "memory usage: 133.2+ KB\n"
     ]
    }
   ],
   "source": [
    "# Your code here\n",
    "df.info()"
   ]
  },
  {
   "cell_type": "markdown",
   "metadata": {},
   "source": [
    "Obtain a tuple representing the **number of rows and number of columns**."
   ]
  },
  {
   "cell_type": "code",
   "execution_count": 252,
   "metadata": {},
   "outputs": [
    {
     "data": {
      "text/plain": [
       "(852, 20)"
      ]
     },
     "execution_count": 252,
     "metadata": {},
     "output_type": "execute_result"
    }
   ],
   "source": [
    "# Your code here\n",
    "df.shape"
   ]
  },
  {
   "cell_type": "markdown",
   "metadata": {},
   "source": [
    "Use the appropriate attribute to get the **column names**."
   ]
  },
  {
   "cell_type": "code",
   "execution_count": 253,
   "metadata": {},
   "outputs": [
    {
     "data": {
      "text/plain": [
       "Index(['Year', 'Datetime', 'Stage', 'Stadium', 'City', 'Home Team Name',\n",
       "       'Home Team Goals', 'Away Team Goals', 'Away Team Name',\n",
       "       'Win conditions', 'Attendance', 'Half-time Home Goals',\n",
       "       'Half-time Away Goals', 'Referee', 'Assistant 1', 'Assistant 2',\n",
       "       'RoundID', 'MatchID', 'Home Team Initials', 'Away Team Initials'],\n",
       "      dtype='object')"
      ]
     },
     "execution_count": 253,
     "metadata": {},
     "output_type": "execute_result"
    }
   ],
   "source": [
    "# Your code here\n",
    "df.columns"
   ]
  },
  {
   "cell_type": "markdown",
   "metadata": {},
   "source": [
    "## Selecting DataFrame Information"
   ]
  },
  {
   "cell_type": "markdown",
   "metadata": {},
   "source": [
    "When looking at the DataFrame's `.head()` and `.tail()`, you might have noticed that the games are structured chronologically in the DataFrame.\n",
    "\n",
    "Use the right selection method to display all the information from the 3rd to the 5th game (i.e. **select rows 3 through 5 inclusive**)."
   ]
  },
  {
   "cell_type": "code",
   "execution_count": 254,
   "metadata": {},
   "outputs": [
    {
     "data": {
      "application/vnd.microsoft.datawrangler.viewer.v0+json": {
       "columns": [
        {
         "name": "index",
         "rawType": "int64",
         "type": "integer"
        },
        {
         "name": "Year",
         "rawType": "int64",
         "type": "integer"
        },
        {
         "name": "Datetime",
         "rawType": "object",
         "type": "string"
        },
        {
         "name": "Stage",
         "rawType": "object",
         "type": "string"
        },
        {
         "name": "Stadium",
         "rawType": "object",
         "type": "string"
        },
        {
         "name": "City",
         "rawType": "object",
         "type": "string"
        },
        {
         "name": "Home Team Name",
         "rawType": "object",
         "type": "string"
        },
        {
         "name": "Home Team Goals",
         "rawType": "int64",
         "type": "integer"
        },
        {
         "name": "Away Team Goals",
         "rawType": "int64",
         "type": "integer"
        },
        {
         "name": "Away Team Name",
         "rawType": "object",
         "type": "string"
        },
        {
         "name": "Win conditions",
         "rawType": "object",
         "type": "string"
        },
        {
         "name": "Attendance",
         "rawType": "float64",
         "type": "float"
        },
        {
         "name": "Half-time Home Goals",
         "rawType": "int64",
         "type": "integer"
        },
        {
         "name": "Half-time Away Goals",
         "rawType": "int64",
         "type": "integer"
        },
        {
         "name": "Referee",
         "rawType": "object",
         "type": "string"
        },
        {
         "name": "Assistant 1",
         "rawType": "object",
         "type": "string"
        },
        {
         "name": "Assistant 2",
         "rawType": "object",
         "type": "string"
        },
        {
         "name": "RoundID",
         "rawType": "int64",
         "type": "integer"
        },
        {
         "name": "MatchID",
         "rawType": "int64",
         "type": "integer"
        },
        {
         "name": "Home Team Initials",
         "rawType": "object",
         "type": "string"
        },
        {
         "name": "Away Team Initials",
         "rawType": "object",
         "type": "string"
        }
       ],
       "conversionMethod": "pd.DataFrame",
       "ref": "ca3dc64a-ed5b-4801-a9a3-d0a26c9a38e0",
       "rows": [
        [
         "3",
         "1930",
         "14 Jul 1930 - 14:50 ",
         "Group 3",
         "Pocitos",
         "Montevideo ",
         "Romania",
         "3",
         "1",
         "Peru",
         " ",
         "2549.0",
         "1",
         "0",
         "WARNKEN Alberto (CHI)",
         "LANGENUS Jean (BEL)",
         "MATEUCCI Francisco (URU)",
         "201",
         "1098",
         "ROU",
         "PER"
        ],
        [
         "4",
         "1930",
         "15 Jul 1930 - 16:00 ",
         "Group 1",
         "Parque Central",
         "Montevideo ",
         "Argentina",
         "1",
         "0",
         "France",
         " ",
         "23409.0",
         "0",
         "0",
         "REGO Gilberto (BRA)",
         "SAUCEDO Ulises (BOL)",
         "RADULESCU Constantin (ROU)",
         "201",
         "1085",
         "ARG",
         "FRA"
        ],
        [
         "5",
         "1930",
         "16 Jul 1930 - 14:45 ",
         "Group 1",
         "Parque Central",
         "Montevideo ",
         "Chile",
         "3",
         "0",
         "Mexico",
         " ",
         "9249.0",
         "1",
         "0",
         "CRISTOPHE Henry (BEL)",
         "APHESTEGUY Martin (URU)",
         "LANGENUS Jean (BEL)",
         "201",
         "1095",
         "CHI",
         "MEX"
        ]
       ],
       "shape": {
        "columns": 20,
        "rows": 3
       }
      },
      "text/html": [
       "<div>\n",
       "<style scoped>\n",
       "    .dataframe tbody tr th:only-of-type {\n",
       "        vertical-align: middle;\n",
       "    }\n",
       "\n",
       "    .dataframe tbody tr th {\n",
       "        vertical-align: top;\n",
       "    }\n",
       "\n",
       "    .dataframe thead th {\n",
       "        text-align: right;\n",
       "    }\n",
       "</style>\n",
       "<table border=\"1\" class=\"dataframe\">\n",
       "  <thead>\n",
       "    <tr style=\"text-align: right;\">\n",
       "      <th></th>\n",
       "      <th>Year</th>\n",
       "      <th>Datetime</th>\n",
       "      <th>Stage</th>\n",
       "      <th>Stadium</th>\n",
       "      <th>City</th>\n",
       "      <th>Home Team Name</th>\n",
       "      <th>Home Team Goals</th>\n",
       "      <th>Away Team Goals</th>\n",
       "      <th>Away Team Name</th>\n",
       "      <th>Win conditions</th>\n",
       "      <th>Attendance</th>\n",
       "      <th>Half-time Home Goals</th>\n",
       "      <th>Half-time Away Goals</th>\n",
       "      <th>Referee</th>\n",
       "      <th>Assistant 1</th>\n",
       "      <th>Assistant 2</th>\n",
       "      <th>RoundID</th>\n",
       "      <th>MatchID</th>\n",
       "      <th>Home Team Initials</th>\n",
       "      <th>Away Team Initials</th>\n",
       "    </tr>\n",
       "  </thead>\n",
       "  <tbody>\n",
       "    <tr>\n",
       "      <th>3</th>\n",
       "      <td>1930</td>\n",
       "      <td>14 Jul 1930 - 14:50</td>\n",
       "      <td>Group 3</td>\n",
       "      <td>Pocitos</td>\n",
       "      <td>Montevideo</td>\n",
       "      <td>Romania</td>\n",
       "      <td>3</td>\n",
       "      <td>1</td>\n",
       "      <td>Peru</td>\n",
       "      <td></td>\n",
       "      <td>2549.0</td>\n",
       "      <td>1</td>\n",
       "      <td>0</td>\n",
       "      <td>WARNKEN Alberto (CHI)</td>\n",
       "      <td>LANGENUS Jean (BEL)</td>\n",
       "      <td>MATEUCCI Francisco (URU)</td>\n",
       "      <td>201</td>\n",
       "      <td>1098</td>\n",
       "      <td>ROU</td>\n",
       "      <td>PER</td>\n",
       "    </tr>\n",
       "    <tr>\n",
       "      <th>4</th>\n",
       "      <td>1930</td>\n",
       "      <td>15 Jul 1930 - 16:00</td>\n",
       "      <td>Group 1</td>\n",
       "      <td>Parque Central</td>\n",
       "      <td>Montevideo</td>\n",
       "      <td>Argentina</td>\n",
       "      <td>1</td>\n",
       "      <td>0</td>\n",
       "      <td>France</td>\n",
       "      <td></td>\n",
       "      <td>23409.0</td>\n",
       "      <td>0</td>\n",
       "      <td>0</td>\n",
       "      <td>REGO Gilberto (BRA)</td>\n",
       "      <td>SAUCEDO Ulises (BOL)</td>\n",
       "      <td>RADULESCU Constantin (ROU)</td>\n",
       "      <td>201</td>\n",
       "      <td>1085</td>\n",
       "      <td>ARG</td>\n",
       "      <td>FRA</td>\n",
       "    </tr>\n",
       "    <tr>\n",
       "      <th>5</th>\n",
       "      <td>1930</td>\n",
       "      <td>16 Jul 1930 - 14:45</td>\n",
       "      <td>Group 1</td>\n",
       "      <td>Parque Central</td>\n",
       "      <td>Montevideo</td>\n",
       "      <td>Chile</td>\n",
       "      <td>3</td>\n",
       "      <td>0</td>\n",
       "      <td>Mexico</td>\n",
       "      <td></td>\n",
       "      <td>9249.0</td>\n",
       "      <td>1</td>\n",
       "      <td>0</td>\n",
       "      <td>CRISTOPHE Henry (BEL)</td>\n",
       "      <td>APHESTEGUY Martin (URU)</td>\n",
       "      <td>LANGENUS Jean (BEL)</td>\n",
       "      <td>201</td>\n",
       "      <td>1095</td>\n",
       "      <td>CHI</td>\n",
       "      <td>MEX</td>\n",
       "    </tr>\n",
       "  </tbody>\n",
       "</table>\n",
       "</div>"
      ],
      "text/plain": [
       "   Year              Datetime    Stage         Stadium         City  \\\n",
       "3  1930  14 Jul 1930 - 14:50   Group 3         Pocitos  Montevideo    \n",
       "4  1930  15 Jul 1930 - 16:00   Group 1  Parque Central  Montevideo    \n",
       "5  1930  16 Jul 1930 - 14:45   Group 1  Parque Central  Montevideo    \n",
       "\n",
       "  Home Team Name  Home Team Goals  Away Team Goals Away Team Name  \\\n",
       "3        Romania                3                1           Peru   \n",
       "4      Argentina                1                0         France   \n",
       "5          Chile                3                0         Mexico   \n",
       "\n",
       "  Win conditions  Attendance  Half-time Home Goals  Half-time Away Goals  \\\n",
       "3                     2549.0                     1                     0   \n",
       "4                    23409.0                     0                     0   \n",
       "5                     9249.0                     1                     0   \n",
       "\n",
       "                 Referee              Assistant 1                 Assistant 2  \\\n",
       "3  WARNKEN Alberto (CHI)      LANGENUS Jean (BEL)    MATEUCCI Francisco (URU)   \n",
       "4    REGO Gilberto (BRA)     SAUCEDO Ulises (BOL)  RADULESCU Constantin (ROU)   \n",
       "5  CRISTOPHE Henry (BEL)  APHESTEGUY Martin (URU)         LANGENUS Jean (BEL)   \n",
       "\n",
       "   RoundID  MatchID Home Team Initials Away Team Initials  \n",
       "3      201     1098                ROU                PER  \n",
       "4      201     1085                ARG                FRA  \n",
       "5      201     1095                CHI                MEX  "
      ]
     },
     "execution_count": 254,
     "metadata": {},
     "output_type": "execute_result"
    }
   ],
   "source": [
    "# Your code here\n",
    "df.iloc[3:6]"
   ]
  },
  {
   "cell_type": "markdown",
   "metadata": {},
   "source": [
    "Now, display the info from **game 5-9** (inclusive), but **only the `\"Home Team Name\"` and the `\"Away Team Name\"` columns**."
   ]
  },
  {
   "cell_type": "code",
   "execution_count": 255,
   "metadata": {},
   "outputs": [
    {
     "data": {
      "application/vnd.microsoft.datawrangler.viewer.v0+json": {
       "columns": [
        {
         "name": "index",
         "rawType": "int64",
         "type": "integer"
        },
        {
         "name": "Home Team Name",
         "rawType": "object",
         "type": "string"
        },
        {
         "name": "Away Team Name",
         "rawType": "object",
         "type": "string"
        }
       ],
       "conversionMethod": "pd.DataFrame",
       "ref": "f5500893-ea5e-4497-aebd-8b411366a3db",
       "rows": [
        [
         "5",
         "Chile",
         "Mexico"
        ],
        [
         "6",
         "Yugoslavia",
         "Bolivia"
        ],
        [
         "7",
         "USA",
         "Paraguay"
        ],
        [
         "8",
         "Uruguay",
         "Peru"
        ],
        [
         "9",
         "Chile",
         "France"
        ]
       ],
       "shape": {
        "columns": 2,
        "rows": 5
       }
      },
      "text/html": [
       "<div>\n",
       "<style scoped>\n",
       "    .dataframe tbody tr th:only-of-type {\n",
       "        vertical-align: middle;\n",
       "    }\n",
       "\n",
       "    .dataframe tbody tr th {\n",
       "        vertical-align: top;\n",
       "    }\n",
       "\n",
       "    .dataframe thead th {\n",
       "        text-align: right;\n",
       "    }\n",
       "</style>\n",
       "<table border=\"1\" class=\"dataframe\">\n",
       "  <thead>\n",
       "    <tr style=\"text-align: right;\">\n",
       "      <th></th>\n",
       "      <th>Home Team Name</th>\n",
       "      <th>Away Team Name</th>\n",
       "    </tr>\n",
       "  </thead>\n",
       "  <tbody>\n",
       "    <tr>\n",
       "      <th>5</th>\n",
       "      <td>Chile</td>\n",
       "      <td>Mexico</td>\n",
       "    </tr>\n",
       "    <tr>\n",
       "      <th>6</th>\n",
       "      <td>Yugoslavia</td>\n",
       "      <td>Bolivia</td>\n",
       "    </tr>\n",
       "    <tr>\n",
       "      <th>7</th>\n",
       "      <td>USA</td>\n",
       "      <td>Paraguay</td>\n",
       "    </tr>\n",
       "    <tr>\n",
       "      <th>8</th>\n",
       "      <td>Uruguay</td>\n",
       "      <td>Peru</td>\n",
       "    </tr>\n",
       "    <tr>\n",
       "      <th>9</th>\n",
       "      <td>Chile</td>\n",
       "      <td>France</td>\n",
       "    </tr>\n",
       "  </tbody>\n",
       "</table>\n",
       "</div>"
      ],
      "text/plain": [
       "  Home Team Name Away Team Name\n",
       "5          Chile         Mexico\n",
       "6     Yugoslavia        Bolivia\n",
       "7            USA       Paraguay\n",
       "8        Uruguay           Peru\n",
       "9          Chile         France"
      ]
     },
     "execution_count": 255,
     "metadata": {},
     "output_type": "execute_result"
    }
   ],
   "source": [
    "# Your code here\n",
    "df.loc[5:9,['Home Team Name','Away Team Name']]"
   ]
  },
  {
   "cell_type": "markdown",
   "metadata": {},
   "source": [
    "Next, we'd like the information on all the games played in **Group 3** for the **1950** World Cup."
   ]
  },
  {
   "cell_type": "markdown",
   "metadata": {},
   "source": [
    "Hint: You can combine conditions like this:\n",
    "\n",
    "`df[(condition1) | (condition2)]`  -> Returns rows where either condition is true\n",
    "\n",
    "`df[(condition1) & (condition2)]`  -> Returns rows where both conditions are true"
   ]
  },
  {
   "cell_type": "code",
   "execution_count": 256,
   "metadata": {},
   "outputs": [
    {
     "data": {
      "application/vnd.microsoft.datawrangler.viewer.v0+json": {
       "columns": [
        {
         "name": "index",
         "rawType": "int64",
         "type": "integer"
        },
        {
         "name": "Year",
         "rawType": "int64",
         "type": "integer"
        },
        {
         "name": "Datetime",
         "rawType": "object",
         "type": "string"
        },
        {
         "name": "Stage",
         "rawType": "object",
         "type": "string"
        },
        {
         "name": "Stadium",
         "rawType": "object",
         "type": "string"
        },
        {
         "name": "City",
         "rawType": "object",
         "type": "string"
        },
        {
         "name": "Home Team Name",
         "rawType": "object",
         "type": "string"
        },
        {
         "name": "Home Team Goals",
         "rawType": "int64",
         "type": "integer"
        },
        {
         "name": "Away Team Goals",
         "rawType": "int64",
         "type": "integer"
        },
        {
         "name": "Away Team Name",
         "rawType": "object",
         "type": "string"
        },
        {
         "name": "Win conditions",
         "rawType": "object",
         "type": "string"
        },
        {
         "name": "Attendance",
         "rawType": "float64",
         "type": "float"
        },
        {
         "name": "Half-time Home Goals",
         "rawType": "int64",
         "type": "integer"
        },
        {
         "name": "Half-time Away Goals",
         "rawType": "int64",
         "type": "integer"
        },
        {
         "name": "Referee",
         "rawType": "object",
         "type": "string"
        },
        {
         "name": "Assistant 1",
         "rawType": "object",
         "type": "string"
        },
        {
         "name": "Assistant 2",
         "rawType": "object",
         "type": "string"
        },
        {
         "name": "RoundID",
         "rawType": "int64",
         "type": "integer"
        },
        {
         "name": "MatchID",
         "rawType": "int64",
         "type": "integer"
        },
        {
         "name": "Home Team Initials",
         "rawType": "object",
         "type": "string"
        },
        {
         "name": "Away Team Initials",
         "rawType": "object",
         "type": "string"
        }
       ],
       "conversionMethod": "pd.DataFrame",
       "ref": "f4de9ae6-a1cd-4db5-8bd0-1a65b795271e",
       "rows": [
        [
         "56",
         "1950",
         "25 Jun 1950 - 15:00 ",
         "Group 3",
         "Pacaembu",
         "Sao Paulo ",
         "Sweden",
         "3",
         "2",
         "Italy",
         " ",
         "36502.0",
         "2",
         "1",
         "LUTZ Jean (SUI)",
         "BERANEK Alois (AUT)",
         "TEJADA Carlos (MEX)",
         "208",
         "1219",
         "SWE",
         "ITA"
        ],
        [
         "61",
         "1950",
         "29 Jun 1950 - 15:30 ",
         "Group 3",
         "Durival de Brito",
         "Curitiba ",
         "Sweden",
         "2",
         "2",
         "Paraguay",
         " ",
         "7903.0",
         "2",
         "1",
         "MITCHELL Robert (SCO)",
         "LEMESIC Leo (YUG)",
         "GARCIA Prudencio (USA)",
         "208",
         "1228",
         "SWE",
         "PAR"
        ],
        [
         "65",
         "1950",
         "02 Jul 1950 - 15:00 ",
         "Group 3",
         "Pacaembu",
         "Sao Paulo ",
         "Italy",
         "2",
         "0",
         "Paraguay",
         " ",
         "25811.0",
         "1",
         "0",
         "ELLIS Arthur (ENG)",
         "GARCIA Prudencio (USA)",
         "DE LA SALLE Charles (FRA)",
         "208",
         "1218",
         "ITA",
         "PAR"
        ]
       ],
       "shape": {
        "columns": 20,
        "rows": 3
       }
      },
      "text/html": [
       "<div>\n",
       "<style scoped>\n",
       "    .dataframe tbody tr th:only-of-type {\n",
       "        vertical-align: middle;\n",
       "    }\n",
       "\n",
       "    .dataframe tbody tr th {\n",
       "        vertical-align: top;\n",
       "    }\n",
       "\n",
       "    .dataframe thead th {\n",
       "        text-align: right;\n",
       "    }\n",
       "</style>\n",
       "<table border=\"1\" class=\"dataframe\">\n",
       "  <thead>\n",
       "    <tr style=\"text-align: right;\">\n",
       "      <th></th>\n",
       "      <th>Year</th>\n",
       "      <th>Datetime</th>\n",
       "      <th>Stage</th>\n",
       "      <th>Stadium</th>\n",
       "      <th>City</th>\n",
       "      <th>Home Team Name</th>\n",
       "      <th>Home Team Goals</th>\n",
       "      <th>Away Team Goals</th>\n",
       "      <th>Away Team Name</th>\n",
       "      <th>Win conditions</th>\n",
       "      <th>Attendance</th>\n",
       "      <th>Half-time Home Goals</th>\n",
       "      <th>Half-time Away Goals</th>\n",
       "      <th>Referee</th>\n",
       "      <th>Assistant 1</th>\n",
       "      <th>Assistant 2</th>\n",
       "      <th>RoundID</th>\n",
       "      <th>MatchID</th>\n",
       "      <th>Home Team Initials</th>\n",
       "      <th>Away Team Initials</th>\n",
       "    </tr>\n",
       "  </thead>\n",
       "  <tbody>\n",
       "    <tr>\n",
       "      <th>56</th>\n",
       "      <td>1950</td>\n",
       "      <td>25 Jun 1950 - 15:00</td>\n",
       "      <td>Group 3</td>\n",
       "      <td>Pacaembu</td>\n",
       "      <td>Sao Paulo</td>\n",
       "      <td>Sweden</td>\n",
       "      <td>3</td>\n",
       "      <td>2</td>\n",
       "      <td>Italy</td>\n",
       "      <td></td>\n",
       "      <td>36502.0</td>\n",
       "      <td>2</td>\n",
       "      <td>1</td>\n",
       "      <td>LUTZ Jean (SUI)</td>\n",
       "      <td>BERANEK Alois (AUT)</td>\n",
       "      <td>TEJADA Carlos (MEX)</td>\n",
       "      <td>208</td>\n",
       "      <td>1219</td>\n",
       "      <td>SWE</td>\n",
       "      <td>ITA</td>\n",
       "    </tr>\n",
       "    <tr>\n",
       "      <th>61</th>\n",
       "      <td>1950</td>\n",
       "      <td>29 Jun 1950 - 15:30</td>\n",
       "      <td>Group 3</td>\n",
       "      <td>Durival de Brito</td>\n",
       "      <td>Curitiba</td>\n",
       "      <td>Sweden</td>\n",
       "      <td>2</td>\n",
       "      <td>2</td>\n",
       "      <td>Paraguay</td>\n",
       "      <td></td>\n",
       "      <td>7903.0</td>\n",
       "      <td>2</td>\n",
       "      <td>1</td>\n",
       "      <td>MITCHELL Robert (SCO)</td>\n",
       "      <td>LEMESIC Leo (YUG)</td>\n",
       "      <td>GARCIA Prudencio (USA)</td>\n",
       "      <td>208</td>\n",
       "      <td>1228</td>\n",
       "      <td>SWE</td>\n",
       "      <td>PAR</td>\n",
       "    </tr>\n",
       "    <tr>\n",
       "      <th>65</th>\n",
       "      <td>1950</td>\n",
       "      <td>02 Jul 1950 - 15:00</td>\n",
       "      <td>Group 3</td>\n",
       "      <td>Pacaembu</td>\n",
       "      <td>Sao Paulo</td>\n",
       "      <td>Italy</td>\n",
       "      <td>2</td>\n",
       "      <td>0</td>\n",
       "      <td>Paraguay</td>\n",
       "      <td></td>\n",
       "      <td>25811.0</td>\n",
       "      <td>1</td>\n",
       "      <td>0</td>\n",
       "      <td>ELLIS Arthur (ENG)</td>\n",
       "      <td>GARCIA Prudencio (USA)</td>\n",
       "      <td>DE LA SALLE Charles (FRA)</td>\n",
       "      <td>208</td>\n",
       "      <td>1218</td>\n",
       "      <td>ITA</td>\n",
       "      <td>PAR</td>\n",
       "    </tr>\n",
       "  </tbody>\n",
       "</table>\n",
       "</div>"
      ],
      "text/plain": [
       "    Year              Datetime    Stage           Stadium        City  \\\n",
       "56  1950  25 Jun 1950 - 15:00   Group 3          Pacaembu  Sao Paulo    \n",
       "61  1950  29 Jun 1950 - 15:30   Group 3  Durival de Brito   Curitiba    \n",
       "65  1950  02 Jul 1950 - 15:00   Group 3          Pacaembu  Sao Paulo    \n",
       "\n",
       "   Home Team Name  Home Team Goals  Away Team Goals Away Team Name  \\\n",
       "56         Sweden                3                2          Italy   \n",
       "61         Sweden                2                2       Paraguay   \n",
       "65          Italy                2                0       Paraguay   \n",
       "\n",
       "   Win conditions  Attendance  Half-time Home Goals  Half-time Away Goals  \\\n",
       "56                    36502.0                     2                     1   \n",
       "61                     7903.0                     2                     1   \n",
       "65                    25811.0                     1                     0   \n",
       "\n",
       "                  Referee             Assistant 1                Assistant 2  \\\n",
       "56        LUTZ Jean (SUI)     BERANEK Alois (AUT)        TEJADA Carlos (MEX)   \n",
       "61  MITCHELL Robert (SCO)       LEMESIC Leo (YUG)     GARCIA Prudencio (USA)   \n",
       "65     ELLIS Arthur (ENG)  GARCIA Prudencio (USA)  DE LA SALLE Charles (FRA)   \n",
       "\n",
       "    RoundID  MatchID Home Team Initials Away Team Initials  \n",
       "56      208     1219                SWE                ITA  \n",
       "61      208     1228                SWE                PAR  \n",
       "65      208     1218                ITA                PAR  "
      ]
     },
     "execution_count": 256,
     "metadata": {},
     "output_type": "execute_result"
    }
   ],
   "source": [
    "# Your code here\n",
    "df[(df['Stage']=='Group 3') & (df['Year']==1950)]"
   ]
  },
  {
   "cell_type": "markdown",
   "metadata": {},
   "source": [
    "Let's repeat the command above, but this time display **only the attendance column** for the Group 3 games. "
   ]
  },
  {
   "cell_type": "code",
   "execution_count": 257,
   "metadata": {},
   "outputs": [
    {
     "data": {
      "text/plain": [
       "56    36502.0\n",
       "61     7903.0\n",
       "65    25811.0\n",
       "Name: Attendance, dtype: float64"
      ]
     },
     "execution_count": 257,
     "metadata": {},
     "output_type": "execute_result"
    }
   ],
   "source": [
    "# Your code here\n",
    "df.loc[(df['Stage']=='Group 3') & (df['Year']==1950), 'Attendance']"
   ]
  },
  {
   "cell_type": "markdown",
   "metadata": {},
   "source": [
    "Throughout the entire history of the World Cup as recorded in this dataset, **how many home games were played by the Netherlands**?\n",
    "\n",
    "(Remember that you can use the `len()` built-in function to find the number of rows in a DataFrame.)"
   ]
  },
  {
   "cell_type": "code",
   "execution_count": 258,
   "metadata": {},
   "outputs": [
    {
     "data": {
      "text/plain": [
       "32"
      ]
     },
     "execution_count": 258,
     "metadata": {},
     "output_type": "execute_result"
    }
   ],
   "source": [
    "# Your code here\n",
    "len(df[df['Home Team Name']== 'Netherlands'])"
   ]
  },
  {
   "cell_type": "markdown",
   "metadata": {},
   "source": [
    "**How many games were played by the Netherlands in total**?"
   ]
  },
  {
   "cell_type": "code",
   "execution_count": 259,
   "metadata": {},
   "outputs": [
    {
     "data": {
      "text/plain": [
       "54"
      ]
     },
     "execution_count": 259,
     "metadata": {},
     "output_type": "execute_result"
    }
   ],
   "source": [
    "len(df[(df['Home Team Name'] == 'Netherlands') | (df['Away Team Name'] == 'Netherlands')])\n"
   ]
  },
  {
   "cell_type": "code",
   "execution_count": 260,
   "metadata": {},
   "outputs": [
    {
     "data": {
      "text/plain": [
       "54"
      ]
     },
     "execution_count": 260,
     "metadata": {},
     "output_type": "execute_result"
    }
   ],
   "source": [
    "# Your code here\n",
    "len(df[df['Home Team Name']=='Netherlands'])+ len(df[df['Away Team Name']=='Netherlands'])"
   ]
  },
  {
   "cell_type": "markdown",
   "metadata": {},
   "source": [
    "Next, let's try and figure out **how many games the USA played in the 2014 World Cup**."
   ]
  },
  {
   "cell_type": "code",
   "execution_count": 261,
   "metadata": {},
   "outputs": [
    {
     "data": {
      "text/plain": [
       "5"
      ]
     },
     "execution_count": 261,
     "metadata": {},
     "output_type": "execute_result"
    }
   ],
   "source": [
    "# Your code here\n",
    "len(df[((df['Home Team Name']=='USA') | (df['Away Team Name']=='USA')) & (df['Year']==2014)])"
   ]
  },
  {
   "cell_type": "markdown",
   "metadata": {},
   "source": [
    "Now, let's try to find out **how many countries participated in the 1986 World Cup**."
   ]
  },
  {
   "cell_type": "markdown",
   "metadata": {},
   "source": [
    "Hint 1: As a first step, create a new dataset that only contains games in that year.\n",
    "\n",
    "Hint 2: Make sure you don't end up with duplicate country names. Consider using `set()` or `.unique()`."
   ]
  },
  {
   "cell_type": "code",
   "execution_count": 262,
   "metadata": {},
   "outputs": [
    {
     "data": {
      "text/plain": [
       "24"
      ]
     },
     "execution_count": 262,
     "metadata": {},
     "output_type": "execute_result"
    }
   ],
   "source": [
    "teams_1986 = df[df['Year'] == 1986][['Home Team Name', 'Away Team Name']]\n",
    "unique_teams_1986 = pd.unique(teams_1986[['Home Team Name', 'Away Team Name']].values.ravel())\n",
    "len(unique_teams_1986)\n"
   ]
  },
  {
   "cell_type": "markdown",
   "metadata": {},
   "source": [
    "Explanation:\n",
    "df[df['Year'] == 1986]: filters matches from the 1986 World Cup.\n",
    "\n",
    "[['Home Team Name', 'Away Team Name']]: selects only the team name columns.\n",
    "\n",
    ".values.ravel(): flattens the 2D array of team names into 1D.\n",
    "\n",
    "pd.unique(...): extracts unique team names.\n",
    "\n",
    "len(...): gives the number of unique teams."
   ]
  },
  {
   "cell_type": "code",
   "execution_count": 263,
   "metadata": {
    "scrolled": true
   },
   "outputs": [
    {
     "data": {
      "text/plain": [
       "24"
      ]
     },
     "execution_count": 263,
     "metadata": {},
     "output_type": "execute_result"
    }
   ],
   "source": [
    "# Your code here\n",
    "# Extracting the teams that played in the 1986 World Cup\n",
    "# Using boolean indexing to filter the DataFrame for the year 1986\n",
    "# and extracting the relevant columns\n",
    "games_1986= df[df['Year']==1986]\n",
    "\n",
    "#Extracting home and away teams from the 1986 World Cup\n",
    "#Using set to get unique teams\n",
    "home_teams_1986= set(games_1986['Home Team Name'])\n",
    "away_teams_1986= set(games_1986['Away Team Name'])\n",
    "\n",
    "teams_1986= home_teams_1986.union(away_teams_1986)# returns a set of unique teams\n",
    "\n",
    "#How many teams played in the 1986 World Cup\n",
    "len(teams_1986)"
   ]
  },
  {
   "cell_type": "code",
   "execution_count": 264,
   "metadata": {},
   "outputs": [
    {
     "data": {
      "text/plain": [
       "24"
      ]
     },
     "execution_count": 264,
     "metadata": {},
     "output_type": "execute_result"
    }
   ],
   "source": [
    "import numpy as np\n",
    "\n",
    "teams_1986 = df[df['Year'] == 1986][['Home Team Name', 'Away Team Name']]\n",
    "flattened = np.array(teams_1986).flat\n",
    "unique_teams_1986 = set(flattened)\n",
    "len(unique_teams_1986)\n"
   ]
  },
  {
   "cell_type": "markdown",
   "metadata": {},
   "source": [
    "If you're working with a NumPy array, you can use .flat to flatten a 2D array to 1D.\n",
    "\n",
    "Breakdown:\n",
    "np.array(...): converts the DataFrame slice to a NumPy array.\n",
    "\n",
    ".flat: returns an iterator that traverses the array in a flat 1D manner.\n",
    "\n",
    "set(...): collects only unique team names from the flattened iterator.\n",
    "\n",
    "len(...): gives you the number of unique teams.\n",
    "\n",
    "🔸 Note: .flat returns an iterator, not a list or array. If needed, you can convert it to a list using list(flattened) before applying set()."
   ]
  },
  {
   "cell_type": "markdown",
   "metadata": {},
   "source": [
    "## Changing Values and Creating New Columns"
   ]
  },
  {
   "cell_type": "markdown",
   "metadata": {},
   "source": [
    "In World Cup history, **how many matches had 5 goals or more in total**? Create a column `\"Total Goals\"` to answer this question."
   ]
  },
  {
   "cell_type": "code",
   "execution_count": 265,
   "metadata": {},
   "outputs": [
    {
     "name": "stdout",
     "output_type": "stream",
     "text": [
      "    Away Team Name Home Team Name  Total Goals\n",
      "0           Mexico         France            5\n",
      "10          Mexico      Argentina            9\n",
      "15             USA      Argentina            7\n",
      "16      Yugoslavia        Uruguay            7\n",
      "17       Argentina        Uruguay            6\n",
      "..             ...            ...          ...\n",
      "806         Brazil       Cameroon            5\n",
      "810       Colombia          Japan            5\n",
      "812      Argentina        Nigeria            5\n",
      "826        Germany         Brazil            8\n",
      "848        Germany         Brazil            8\n",
      "\n",
      "[147 rows x 3 columns]\n",
      "147\n"
     ]
    }
   ],
   "source": [
    "# Your code here\n",
    "df['Total Goals']= df['Home Team Goals'] + df['Away Team Goals']\n",
    "\n",
    "#Finding the matches with 5 or more goals\n",
    "\n",
    "print(df.loc[df['Total Goals'] >=5, ['Away Team Name', 'Home Team Name', 'Total Goals']])\n",
    "#The number of matches with 5 or more goals\n",
    "print(len(df[df['Total Goals'] >=5]))"
   ]
  },
  {
   "cell_type": "markdown",
   "metadata": {},
   "source": [
    "Now **create a new column `\"Half-time Goals\"`** in `df` that includes both home and away values."
   ]
  },
  {
   "cell_type": "code",
   "execution_count": 266,
   "metadata": {},
   "outputs": [],
   "source": [
    "# Your code here\n",
    "df['Half-time Goals']= df['Half-time Home Goals'] + df['Half-time Away Goals']"
   ]
  },
  {
   "cell_type": "code",
   "execution_count": 267,
   "metadata": {},
   "outputs": [
    {
     "data": {
      "text/plain": [
       "Index(['Year', 'Datetime', 'Stage', 'Stadium', 'City', 'Home Team Name',\n",
       "       'Home Team Goals', 'Away Team Goals', 'Away Team Name',\n",
       "       'Win conditions', 'Attendance', 'Half-time Home Goals',\n",
       "       'Half-time Away Goals', 'Referee', 'Assistant 1', 'Assistant 2',\n",
       "       'RoundID', 'MatchID', 'Home Team Initials', 'Away Team Initials',\n",
       "       'Total Goals', 'Half-time Goals'],\n",
       "      dtype='object')"
      ]
     },
     "execution_count": 267,
     "metadata": {},
     "output_type": "execute_result"
    }
   ],
   "source": [
    "# Run this cell without changes to see your new column\n",
    "df.columns"
   ]
  },
  {
   "cell_type": "markdown",
   "metadata": {},
   "source": [
    "Run the code below. You'll notice that for Korea, there are records for both North-Korea (Korea DPR) and South-Korea (Korea Republic). "
   ]
  },
  {
   "cell_type": "code",
   "execution_count": 268,
   "metadata": {},
   "outputs": [
    {
     "data": {
      "text/plain": [
       "179         Korea DPR\n",
       "187         Korea DPR\n",
       "374    Korea Republic\n",
       "386    Korea Republic\n",
       "434    Korea Republic\n",
       "444    Korea Republic\n",
       "480    Korea Republic\n",
       "524    Korea Republic\n",
       "593    Korea Republic\n",
       "609    Korea Republic\n",
       "635    Korea Republic\n",
       "642    Korea Republic\n",
       "655    Korea Republic\n",
       "710    Korea Republic\n",
       "753         Korea DPR\n",
       "802    Korea Republic\n",
       "818    Korea Republic\n",
       "Name: Home Team Name, dtype: object"
      ]
     },
     "execution_count": 268,
     "metadata": {},
     "output_type": "execute_result"
    }
   ],
   "source": [
    "# Run this cell without changes\n",
    "\n",
    "# Display all records containing the string 'Korea'\n",
    "df.loc[df['Home Team Name'].str.contains('Korea'), 'Home Team Name']"
   ]
  },
  {
   "cell_type": "markdown",
   "metadata": {},
   "source": [
    "Imagine that, for some reason, we simply want Korea listed as one entry, so we want to replace every \"Home Team Name\" and \"Away Team Name\" entry that contains \"Korea\" to simply \"Korea\". In the same way, we want to change the columns \"Home Team Initials\" and \"Away Team Initials\" to NSK (North & South Korea) instead of \"KOR\" and \"PRK\". "
   ]
  },
  {
   "cell_type": "code",
   "execution_count": 269,
   "metadata": {},
   "outputs": [],
   "source": [
    "# Update the 'Home Team Name' and 'Home Team Initials' columns \n",
    "# Replace \"Korea\" in \"Home Team Name\" and \"Away Team Name\"\n",
    "df['Home Team Name'] = df['Home Team Name'].replace(['Korea DPR', 'Korea Republic'], 'Korea', regex= False)\n",
    "df['Away Team Name'] = df['Away Team Name'].replace(['Korea DPR', 'Korea Republic'], 'Korea', regex= False)\n",
    "\n",
    "# Replace \"KOR\" and \"PRK\" with \"NSK\" in \"Home Team Initials\" and \"Away Team Initials\"\n",
    "df['Home Team Initials'] = df['Home Team Initials'].replace(['KOR', 'PRK'], 'NSK')\n",
    "df['Away Team Initials'] = df['Away Team Initials'].replace(['KOR', 'PRK'], 'NSK')"
   ]
  },
  {
   "cell_type": "markdown",
   "metadata": {},
   "source": [
    "Make sure to verify your answer!"
   ]
  },
  {
   "cell_type": "code",
   "execution_count": 276,
   "metadata": {},
   "outputs": [
    {
     "name": "stdout",
     "output_type": "stream",
     "text": [
      "    Home Team Name Home Team Initials\n",
      "179          Korea                NSK\n",
      "187          Korea                NSK\n",
      "374          Korea                NSK\n",
      "386          Korea                NSK\n",
      "434          Korea                NSK\n",
      "444          Korea                NSK\n",
      "480          Korea                NSK\n",
      "524          Korea                NSK\n",
      "593          Korea                NSK\n",
      "609          Korea                NSK\n",
      "635          Korea                NSK\n",
      "642          Korea                NSK\n",
      "655          Korea                NSK\n",
      "710          Korea                NSK\n",
      "753          Korea                NSK\n",
      "802          Korea                NSK\n",
      "818          Korea                NSK\n",
      "    Away Team Name Away Team Initials\n",
      "80           Korea                NSK\n",
      "88           Korea                NSK\n",
      "171          Korea                NSK\n",
      "195          Korea                NSK\n",
      "364          Korea                NSK\n",
      "421          Korea                NSK\n",
      "464          Korea                NSK\n",
      "490          Korea                NSK\n",
      "542          Korea                NSK\n",
      "556          Korea                NSK\n",
      "625          Korea                NSK\n",
      "639          Korea                NSK\n",
      "640          Korea                NSK\n",
      "672          Korea                NSK\n",
      "691          Korea                NSK\n",
      "721          Korea                NSK\n",
      "725          Korea                NSK\n",
      "737          Korea                NSK\n",
      "742          Korea                NSK\n",
      "756          Korea                NSK\n",
      "788          Korea                NSK\n"
     ]
    }
   ],
   "source": [
    "# Check the updated columns\n",
    "print(df.loc[df['Home Team Name'].str.contains('Korea'), ['Home Team Name', 'Home Team Initials']])\n",
    "print(df.loc[df['Away Team Name'].str.contains('Korea'), ['Away Team Name', 'Away Team Initials']])"
   ]
  },
  {
   "cell_type": "markdown",
   "metadata": {},
   "source": [
    "## Summary\n",
    "\n",
    "In this lab, you practiced accessing data within Pandas!"
   ]
  }
 ],
 "metadata": {
  "kernelspec": {
   "display_name": "learn-env",
   "language": "python",
   "name": "python3"
  },
  "language_info": {
   "codemirror_mode": {
    "name": "ipython",
    "version": 3
   },
   "file_extension": ".py",
   "mimetype": "text/x-python",
   "name": "python",
   "nbconvert_exporter": "python",
   "pygments_lexer": "ipython3",
   "version": "3.8.5"
  }
 },
 "nbformat": 4,
 "nbformat_minor": 2
}
